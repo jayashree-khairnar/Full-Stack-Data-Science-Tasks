{
 "cells": [
  {
   "cell_type": "code",
   "execution_count": 2,
   "id": "003a62bc",
   "metadata": {},
   "outputs": [],
   "source": [
    "s= \"this is My First Python programming class and i am learNING python string and its function\""
   ]
  },
  {
   "cell_type": "markdown",
   "id": "a1b06efd",
   "metadata": {},
   "source": [
    "#### 1 . Try to extract data from index 1 to index 300 with a jump of 3 "
   ]
  },
  {
   "cell_type": "code",
   "execution_count": 3,
   "id": "3e9be033",
   "metadata": {},
   "outputs": [
    {
     "data": {
      "text/plain": [
       "'tssyityopgmncsa alrNph rgni ni'"
      ]
     },
     "execution_count": 3,
     "metadata": {},
     "output_type": "execute_result"
    }
   ],
   "source": [
    "s[0:300:3]"
   ]
  },
  {
   "cell_type": "markdown",
   "id": "6370e23a",
   "metadata": {},
   "source": [
    "#### 2. Try to reverse a string without using reverse function "
   ]
  },
  {
   "cell_type": "code",
   "execution_count": 3,
   "id": "7deae03d",
   "metadata": {},
   "outputs": [
    {
     "data": {
      "text/plain": [
       "'noitcnuf sti dna gnirts nohtyp GNINrael ma i dna ssalc gnimmargorp nohtyP tsriF yM si siht'"
      ]
     },
     "execution_count": 3,
     "metadata": {},
     "output_type": "execute_result"
    }
   ],
   "source": [
    "s[::-1]"
   ]
  },
  {
   "cell_type": "markdown",
   "id": "a11431ba",
   "metadata": {},
   "source": [
    "#### 3. Try to split a string after conversion of entire string in uppercase "
   ]
  },
  {
   "cell_type": "code",
   "execution_count": 4,
   "id": "0ba7614f",
   "metadata": {},
   "outputs": [
    {
     "data": {
      "text/plain": [
       "['THIS',\n",
       " 'IS',\n",
       " 'MY',\n",
       " 'FIRST',\n",
       " 'PYTHON',\n",
       " 'PROGRAMMING',\n",
       " 'CLASS',\n",
       " 'AND',\n",
       " 'I',\n",
       " 'AM',\n",
       " 'LEARNING',\n",
       " 'PYTHON',\n",
       " 'STRING',\n",
       " 'AND',\n",
       " 'ITS',\n",
       " 'FUNCTION']"
      ]
     },
     "execution_count": 4,
     "metadata": {},
     "output_type": "execute_result"
    }
   ],
   "source": [
    "s= s.upper()\n",
    "s.split()"
   ]
  },
  {
   "cell_type": "markdown",
   "id": "6c2a3e57",
   "metadata": {},
   "source": [
    "#### 4. Try to convert the whole string into lower case "
   ]
  },
  {
   "cell_type": "code",
   "execution_count": 5,
   "id": "a7be632e",
   "metadata": {},
   "outputs": [
    {
     "data": {
      "text/plain": [
       "'this is my first python programming class and i am learning python string and its function'"
      ]
     },
     "execution_count": 5,
     "metadata": {},
     "output_type": "execute_result"
    }
   ],
   "source": [
    "s.lower()"
   ]
  },
  {
   "cell_type": "markdown",
   "id": "21337770",
   "metadata": {},
   "source": [
    "#### 5 . Try to capitalize the whole string "
   ]
  },
  {
   "cell_type": "code",
   "execution_count": 6,
   "id": "534d7d99",
   "metadata": {},
   "outputs": [
    {
     "data": {
      "text/plain": [
       "'This is my first python programming class and i am learning python string and its function'"
      ]
     },
     "execution_count": 6,
     "metadata": {},
     "output_type": "execute_result"
    }
   ],
   "source": [
    "s.capitalize()"
   ]
  },
  {
   "cell_type": "markdown",
   "id": "cfdf07ac",
   "metadata": {},
   "source": [
    "#### 6 . Write a diference between isalnum() and isalpha()"
   ]
  },
  {
   "cell_type": "markdown",
   "id": "c34482b0",
   "metadata": {},
   "source": [
    "Difference between isalpha() & isalnum():\n",
    "   - isalpha(): returns True only if string contains only alphabets without any space"
   ]
  },
  {
   "cell_type": "code",
   "execution_count": 7,
   "id": "3dd469f8",
   "metadata": {},
   "outputs": [
    {
     "data": {
      "text/plain": [
       "True"
      ]
     },
     "execution_count": 7,
     "metadata": {},
     "output_type": "execute_result"
    }
   ],
   "source": [
    "'hello'.isalpha()"
   ]
  },
  {
   "cell_type": "code",
   "execution_count": 8,
   "id": "cbc31500",
   "metadata": {},
   "outputs": [
    {
     "data": {
      "text/plain": [
       "False"
      ]
     },
     "execution_count": 8,
     "metadata": {},
     "output_type": "execute_result"
    }
   ],
   "source": [
    "'hello123'.isalpha()"
   ]
  },
  {
   "cell_type": "code",
   "execution_count": 9,
   "id": "1d8de2bd",
   "metadata": {},
   "outputs": [
    {
     "data": {
      "text/plain": [
       "False"
      ]
     },
     "execution_count": 9,
     "metadata": {},
     "output_type": "execute_result"
    }
   ],
   "source": [
    "'hello 123'.isalpha()"
   ]
  },
  {
   "cell_type": "code",
   "execution_count": 10,
   "id": "4b0636e9",
   "metadata": {},
   "outputs": [
    {
     "data": {
      "text/plain": [
       "False"
      ]
     },
     "execution_count": 10,
     "metadata": {},
     "output_type": "execute_result"
    }
   ],
   "source": [
    "'hello!@#'.isalpha()"
   ]
  },
  {
   "cell_type": "markdown",
   "id": "6833e9ed",
   "metadata": {},
   "source": [
    "   - isalnum(): returns true only if string contains alphabets or numerics without any space"
   ]
  },
  {
   "cell_type": "code",
   "execution_count": 11,
   "id": "1563b1e6",
   "metadata": {},
   "outputs": [
    {
     "data": {
      "text/plain": [
       "True"
      ]
     },
     "execution_count": 11,
     "metadata": {},
     "output_type": "execute_result"
    }
   ],
   "source": [
    "'hello'.isalnum()"
   ]
  },
  {
   "cell_type": "code",
   "execution_count": 12,
   "id": "ef22f6b5",
   "metadata": {},
   "outputs": [
    {
     "data": {
      "text/plain": [
       "True"
      ]
     },
     "execution_count": 12,
     "metadata": {},
     "output_type": "execute_result"
    }
   ],
   "source": [
    "'hello123'.isalnum()"
   ]
  },
  {
   "cell_type": "code",
   "execution_count": 13,
   "id": "4cd7cb26",
   "metadata": {},
   "outputs": [
    {
     "data": {
      "text/plain": [
       "False"
      ]
     },
     "execution_count": 13,
     "metadata": {},
     "output_type": "execute_result"
    }
   ],
   "source": [
    "'hello 123'.isalnum()"
   ]
  },
  {
   "cell_type": "code",
   "execution_count": 14,
   "id": "92405377",
   "metadata": {},
   "outputs": [
    {
     "data": {
      "text/plain": [
       "False"
      ]
     },
     "execution_count": 14,
     "metadata": {},
     "output_type": "execute_result"
    }
   ],
   "source": [
    "'hello!@#'.isalnum()"
   ]
  },
  {
   "cell_type": "markdown",
   "id": "ce195e38",
   "metadata": {},
   "source": [
    "#### 7. Try to give an example of expand tab"
   ]
  },
  {
   "cell_type": "code",
   "execution_count": 15,
   "id": "cc479fed",
   "metadata": {},
   "outputs": [],
   "source": [
    "text= 'i\\tNeuron'"
   ]
  },
  {
   "cell_type": "code",
   "execution_count": 16,
   "id": "63cf505c",
   "metadata": {},
   "outputs": [
    {
     "data": {
      "text/plain": [
       "'i\\tNeuron'"
      ]
     },
     "execution_count": 16,
     "metadata": {},
     "output_type": "execute_result"
    }
   ],
   "source": [
    "text"
   ]
  },
  {
   "cell_type": "code",
   "execution_count": 17,
   "id": "d3248a31",
   "metadata": {},
   "outputs": [
    {
     "data": {
      "text/plain": [
       "'i       Neuron'"
      ]
     },
     "execution_count": 17,
     "metadata": {},
     "output_type": "execute_result"
    }
   ],
   "source": [
    "text.expandtabs()"
   ]
  },
  {
   "cell_type": "code",
   "execution_count": 18,
   "id": "4f700ae1",
   "metadata": {},
   "outputs": [
    {
     "data": {
      "text/plain": [
       "'i Neuron'"
      ]
     },
     "execution_count": 18,
     "metadata": {},
     "output_type": "execute_result"
    }
   ],
   "source": [
    "text.expandtabs(2)"
   ]
  },
  {
   "cell_type": "code",
   "execution_count": 19,
   "id": "c7ead4a0",
   "metadata": {},
   "outputs": [
    {
     "data": {
      "text/plain": [
       "'i              Neuron'"
      ]
     },
     "execution_count": 19,
     "metadata": {},
     "output_type": "execute_result"
    }
   ],
   "source": [
    "text.expandtabs(15)"
   ]
  },
  {
   "cell_type": "markdown",
   "id": "a62dbf67",
   "metadata": {},
   "source": [
    "#### 8 . Give an example of strip, lstrip and rstrip"
   ]
  },
  {
   "cell_type": "code",
   "execution_count": 20,
   "id": "da4693f8",
   "metadata": {},
   "outputs": [],
   "source": [
    "s1= '   iNeu ron   '"
   ]
  },
  {
   "cell_type": "code",
   "execution_count": 21,
   "id": "294dd8dd",
   "metadata": {},
   "outputs": [
    {
     "data": {
      "text/plain": [
       "'iNeu ron'"
      ]
     },
     "execution_count": 21,
     "metadata": {},
     "output_type": "execute_result"
    }
   ],
   "source": [
    "s1.strip()"
   ]
  },
  {
   "cell_type": "code",
   "execution_count": 22,
   "id": "84aba4da",
   "metadata": {},
   "outputs": [
    {
     "data": {
      "text/plain": [
       "'iNeu ron   '"
      ]
     },
     "execution_count": 22,
     "metadata": {},
     "output_type": "execute_result"
    }
   ],
   "source": [
    "s1.lstrip()"
   ]
  },
  {
   "cell_type": "code",
   "execution_count": 23,
   "id": "fae17ead",
   "metadata": {},
   "outputs": [
    {
     "data": {
      "text/plain": [
       "'   iNeu ron'"
      ]
     },
     "execution_count": 23,
     "metadata": {},
     "output_type": "execute_result"
    }
   ],
   "source": [
    "s1.rstrip()"
   ]
  },
  {
   "cell_type": "markdown",
   "id": "65b01689",
   "metadata": {},
   "source": [
    "#### 9.  Replace a string character by another character by taking your own example "
   ]
  },
  {
   "cell_type": "markdown",
   "id": "51262274",
   "metadata": {},
   "source": [
    "   - In python strings are immutable. So, we can't modify it. "
   ]
  },
  {
   "cell_type": "code",
   "execution_count": 24,
   "id": "4cd1ccd4",
   "metadata": {},
   "outputs": [],
   "source": [
    "s2= \"hey there! what's up.\" "
   ]
  },
  {
   "cell_type": "code",
   "execution_count": 25,
   "id": "1c625648",
   "metadata": {},
   "outputs": [
    {
     "data": {
      "text/plain": [
       "\"hey there! what's up?\""
      ]
     },
     "execution_count": 25,
     "metadata": {},
     "output_type": "execute_result"
    }
   ],
   "source": [
    "s2.replace(\".\",\"?\")"
   ]
  },
  {
   "cell_type": "code",
   "execution_count": 26,
   "id": "48624a82",
   "metadata": {},
   "outputs": [
    {
     "data": {
      "text/plain": [
       "\"hey there! what's up.\""
      ]
     },
     "execution_count": 26,
     "metadata": {},
     "output_type": "execute_result"
    }
   ],
   "source": [
    "s2      "
   ]
  },
  {
   "cell_type": "markdown",
   "id": "7a083e77",
   "metadata": {},
   "source": [
    "#### 10 . Try  to give a defination of string center function with and exmple "
   ]
  },
  {
   "cell_type": "markdown",
   "id": "bc2c5912",
   "metadata": {},
   "source": [
    "String center(): Returns a new string that is padded with the specified character.\n",
    "It has two parameters:\n",
    "   - length: specify length of the new string after padding with the character\n",
    "   - fillchar: We can mention any character which needed to be padded, if nothing is mentioned space will be taken as a default character."
   ]
  },
  {
   "cell_type": "code",
   "execution_count": 30,
   "id": "f77408f6",
   "metadata": {},
   "outputs": [],
   "source": [
    "s2= 'iNeuron'"
   ]
  },
  {
   "cell_type": "code",
   "execution_count": 31,
   "id": "a70beb65",
   "metadata": {},
   "outputs": [
    {
     "data": {
      "text/plain": [
       "'      iNeuron       '"
      ]
     },
     "execution_count": 31,
     "metadata": {},
     "output_type": "execute_result"
    }
   ],
   "source": [
    "s2.center(20)"
   ]
  },
  {
   "cell_type": "code",
   "execution_count": 32,
   "id": "3f6994ec",
   "metadata": {},
   "outputs": [
    {
     "data": {
      "text/plain": [
       "'###########iNeuron############'"
      ]
     },
     "execution_count": 32,
     "metadata": {},
     "output_type": "execute_result"
    }
   ],
   "source": [
    "s2.center(30,'#')"
   ]
  },
  {
   "cell_type": "markdown",
   "id": "2863897e",
   "metadata": {},
   "source": [
    "#### 11 . Write your own definition of compiler and interpreter without copy paste from internet in your own language"
   ]
  },
  {
   "cell_type": "markdown",
   "id": "89b51ec2",
   "metadata": {},
   "source": [
    "   - Compiler: We write a program in any programming language which is a high level language. But, before a program can be run, it first must be translated into a machine readable form in which it can be excuted by a computer. This is done by the compilers, it converts source code into machine code. An important role of the compiler is to report errors in the source program that it detects at the runtime.  \n",
    "   \n",
    "   \n",
    "   - Interpreter: It directly executes the source code directly without converting it into machine code & produce the output."
   ]
  },
  {
   "cell_type": "markdown",
   "id": "075b7fc4",
   "metadata": {},
   "source": [
    "#### 12 . Python is a interpreted or compiled language give a clear ans with your understanding"
   ]
  },
  {
   "cell_type": "markdown",
   "id": "73da9fde",
   "metadata": {},
   "source": [
    "  - Python is the both compiled & interpreted language.\n",
    "  - When we execute a python file, it first gets compiled & generate a byte code. Then, this byte code will be interpreted in a 'Python Virtual Machine'(PVM).\n",
    "  - In java first we have to compile the code, then we have to run the file using java command. But in python while executing the code we simply mention the file name, we don't have to do compilation.    "
   ]
  },
  {
   "cell_type": "markdown",
   "id": "01ffbfb7",
   "metadata": {},
   "source": [
    "#### 13 . Try to write a usecase of python with your understanding"
   ]
  },
  {
   "cell_type": "markdown",
   "id": "586bd7ef",
   "metadata": {},
   "source": [
    "Some of the python use cases:\n",
    "   1. Aerospace: \n",
    "   - Python is one of the top programming languages used within aerospace engineering. \n",
    "   - It has been used to solve many problems in the astronomy related stuff. SPICE is a huge toolkit used by solar system science community to determine planet's position, coordinates of an asteroid in the sky, etc.\n",
    "   - We can model satellite's orbit around earth with PyAstronomy and matplotlib.\n",
    "   \n",
    "   \n",
    "   2. Healthcare: \n",
    "   - Python is used to build machine learning algorithms & software applications for performing medical diagnostics.\n",
    "   - It can help in making sense of the data by working with AI & ML in healthcare.\n",
    "   \n",
    "   3. Web Development: \n",
    "   - Couple of years back javascript was the most demanded language from the development point of view. But, nowadays python is also getting popularity in front-end as well as in back-end web develpoment.\n",
    "   - Python offers several choices for complex web development projects.\n",
    "   \n",
    "   4. Artificial Intelligence(AI) & Machine Learning(ML):\n",
    "   - Python is the major code language for AI & ML.\n",
    "   - As AI & ML are mostly about algorithms, logic & code python is being used for developing AI & ML power solutions.\n",
    "   - Python provides varieties of libraries which is one of the reason it's the most popular programming language used for AI.\n",
    "   \n",
    "   "
   ]
  }
 ],
 "metadata": {
  "kernelspec": {
   "display_name": "Python 3",
   "language": "python",
   "name": "python3"
  },
  "language_info": {
   "codemirror_mode": {
    "name": "ipython",
    "version": 3
   },
   "file_extension": ".py",
   "mimetype": "text/x-python",
   "name": "python",
   "nbconvert_exporter": "python",
   "pygments_lexer": "ipython3",
   "version": "3.8.8"
  }
 },
 "nbformat": 4,
 "nbformat_minor": 5
}
