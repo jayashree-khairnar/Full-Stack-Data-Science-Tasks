{
 "cells": [
  {
   "cell_type": "markdown",
   "id": "6a108bcb",
   "metadata": {},
   "source": [
    "#### 1. Try to print a prime number in between 1 to 1000"
   ]
  },
  {
   "cell_type": "code",
   "execution_count": 1,
   "id": "adc5167c",
   "metadata": {},
   "outputs": [
    {
     "name": "stdout",
     "output_type": "stream",
     "text": [
      "Prime numbers\n",
      "2\n",
      "3\n",
      "5\n",
      "7\n",
      "11\n",
      "13\n",
      "17\n",
      "19\n",
      "23\n",
      "29\n",
      "31\n",
      "37\n",
      "41\n",
      "43\n",
      "47\n",
      "53\n",
      "59\n",
      "61\n",
      "67\n",
      "71\n",
      "73\n",
      "79\n",
      "83\n",
      "89\n",
      "97\n",
      "101\n",
      "103\n",
      "107\n",
      "109\n",
      "113\n",
      "127\n",
      "131\n",
      "137\n",
      "139\n",
      "149\n",
      "151\n",
      "157\n",
      "163\n",
      "167\n",
      "173\n",
      "179\n",
      "181\n",
      "191\n",
      "193\n",
      "197\n",
      "199\n",
      "211\n",
      "223\n",
      "227\n",
      "229\n",
      "233\n",
      "239\n",
      "241\n",
      "251\n",
      "257\n",
      "263\n",
      "269\n",
      "271\n",
      "277\n",
      "281\n",
      "283\n",
      "293\n",
      "307\n",
      "311\n",
      "313\n",
      "317\n",
      "331\n",
      "337\n",
      "347\n",
      "349\n",
      "353\n",
      "359\n",
      "367\n",
      "373\n",
      "379\n",
      "383\n",
      "389\n",
      "397\n",
      "401\n",
      "409\n",
      "419\n",
      "421\n",
      "431\n",
      "433\n",
      "439\n",
      "443\n",
      "449\n",
      "457\n",
      "461\n",
      "463\n",
      "467\n",
      "479\n",
      "487\n",
      "491\n",
      "499\n",
      "503\n",
      "509\n",
      "521\n",
      "523\n",
      "541\n",
      "547\n",
      "557\n",
      "563\n",
      "569\n",
      "571\n",
      "577\n",
      "587\n",
      "593\n",
      "599\n",
      "601\n",
      "607\n",
      "613\n",
      "617\n",
      "619\n",
      "631\n",
      "641\n",
      "643\n",
      "647\n",
      "653\n",
      "659\n",
      "661\n",
      "673\n",
      "677\n",
      "683\n",
      "691\n",
      "701\n",
      "709\n",
      "719\n",
      "727\n",
      "733\n",
      "739\n",
      "743\n",
      "751\n",
      "757\n",
      "761\n",
      "769\n",
      "773\n",
      "787\n",
      "797\n",
      "809\n",
      "811\n",
      "821\n",
      "823\n",
      "827\n",
      "829\n",
      "839\n",
      "853\n",
      "857\n",
      "859\n",
      "863\n",
      "877\n",
      "881\n",
      "883\n",
      "887\n",
      "907\n",
      "911\n",
      "919\n",
      "929\n",
      "937\n",
      "941\n",
      "947\n",
      "953\n",
      "967\n",
      "971\n",
      "977\n",
      "983\n",
      "991\n",
      "997\n"
     ]
    }
   ],
   "source": [
    "print(\"Prime numbers\")\n",
    "for num in range(2, 1001):\n",
    "        for i in range(2, num):\n",
    "            if num%i == 0:\n",
    "                break\n",
    "\n",
    "        else:\n",
    "            print(num)\n"
   ]
  },
  {
   "cell_type": "markdown",
   "id": "7e0e464a",
   "metadata": {},
   "source": [
    "#### 2. Try to write a function which  is equivalent  to print function in python"
   ]
  },
  {
   "cell_type": "code",
   "execution_count": 2,
   "id": "20985df8",
   "metadata": {},
   "outputs": [
    {
     "name": "stdout",
     "output_type": "stream",
     "text": [
      "This \n",
      "function is \n",
      "eqivalent to print()\n"
     ]
    }
   ],
   "source": [
    "def replace_print(*to_print):\n",
    "    print(*to_print)\n",
    "    \n",
    "replace_print('This', '\\nfunction is', '\\neqivalent to print()')"
   ]
  },
  {
   "cell_type": "markdown",
   "id": "b027e627",
   "metadata": {},
   "source": [
    "#### 3. Try to write a function which is a replica of list append , extend and pop function "
   ]
  },
  {
   "cell_type": "code",
   "execution_count": 3,
   "id": "e2647daa",
   "metadata": {
    "scrolled": true
   },
   "outputs": [],
   "source": [
    "def append(lst, *elements):\n",
    "    \"\"\"Appends the elments at the end of a list\n",
    "    Arguments:\n",
    "    lst= pass any list \n",
    "    *elements= pass elements to append\"\"\"\n",
    "    \n",
    "    lst += elements\n",
    "    print(\"\\nList after append operation:\", lst)\n",
    "    \n",
    "def pop(lst):\n",
    "    \"\"\"Removes an element from a list. If index is not mentioned, the default index is '-1'.\n",
    "    Throws error if index is out of range or list is empty.\n",
    "    Arguments:\n",
    "    lst= pass any list\"\"\"\n",
    "    \n",
    "    try:\n",
    "        user_indx= int(input(\"\\nEnter index to pop an element:\"))\n",
    "\n",
    "        if user_indx >= 0:\n",
    "            popped_ele= lst[user_indx]\n",
    "            del(lst[user_indx])\n",
    "            print(\"Popped item: \"+str(popped_ele))\n",
    "\n",
    "        elif user_indx < 0:  \n",
    "            indx= len(lst)\n",
    "            ele_to_del= indx + user_indx\n",
    "            popped_ele= lst[user_indx]\n",
    "            del(lst[ele_to_del])\n",
    "            print(\"Popped item: \"+str(popped_ele))\n",
    "        \n",
    "        print(\"\\nList after pop operation:\", lst)  \n",
    "        \n",
    "    except IndexError:\n",
    "        if lst:\n",
    "            return 'IndexError: pop index out of range'\n",
    "        else:\n",
    "            return 'IndexError: pop from empty list'\n",
    "            \n",
    "    except ValueError or IndexError:\n",
    "        indx= len(lst)\n",
    "        indx = indx - 1\n",
    "        popped_ele= lst[indx]\n",
    "        del(lst[indx])\n",
    "        print(\"Popped item: \"+str(popped_ele))\n",
    "        print(\"\\nList after pop operation:\", lst)\n",
    "\n",
    "\n",
    "def extend(lst, element):\n",
    "    \"\"\"Extends an iterable object at the end of a list.\n",
    "    Arguments:\n",
    "    lst= pass any list\n",
    "    element= pass a iterable object\"\"\"\n",
    "    \n",
    "    if type(element)==list or type(element)==tuple or type(element)==set or type(element)==dict or type(element) == str:\n",
    "        lst += element\n",
    "        print(\"\\nList after extend operation:\", lst)\n",
    "\n",
    "    else:\n",
    "        print(\"TypeError: Enter iterable objects only\")\n",
    "\n",
    "    \n",
    "lst= []\n",
    "indx= len(lst)"
   ]
  },
  {
   "cell_type": "code",
   "execution_count": 4,
   "id": "fba47d7a",
   "metadata": {
    "scrolled": false
   },
   "outputs": [
    {
     "name": "stdout",
     "output_type": "stream",
     "text": [
      "\n",
      "Enter index to pop an element:0\n"
     ]
    },
    {
     "data": {
      "text/plain": [
       "'IndexError: pop from empty list'"
      ]
     },
     "execution_count": 4,
     "metadata": {},
     "output_type": "execute_result"
    }
   ],
   "source": [
    "pop(lst)"
   ]
  },
  {
   "cell_type": "code",
   "execution_count": 5,
   "id": "0eae4753",
   "metadata": {},
   "outputs": [
    {
     "name": "stdout",
     "output_type": "stream",
     "text": [
      "\n",
      "List after append operation: ['xyz', 3.3, 'jhb', (1, 3, 4), (4+7j), {1: 'one', 2: 'two'}, {4, 6, 7}]\n"
     ]
    }
   ],
   "source": [
    "append(lst, 'xyz',3.3,'jhb',(1,3,4),4+7j,{1:'one', 2:'two'},{4,4,4,4,6,7,7,6})"
   ]
  },
  {
   "cell_type": "code",
   "execution_count": 6,
   "id": "9b35f3d9",
   "metadata": {
    "scrolled": true
   },
   "outputs": [
    {
     "name": "stdout",
     "output_type": "stream",
     "text": [
      "\n",
      "Enter index to pop an element:\n",
      "Popped item: {4, 6, 7}\n",
      "\n",
      "List after pop operation: ['xyz', 3.3, 'jhb', (1, 3, 4), (4+7j), {1: 'one', 2: 'two'}]\n"
     ]
    }
   ],
   "source": [
    "pop(lst) # default pop operation: if i don't mention index here it'll pop out the last element from a list"
   ]
  },
  {
   "cell_type": "code",
   "execution_count": 7,
   "id": "ef13b06f",
   "metadata": {
    "scrolled": true
   },
   "outputs": [
    {
     "name": "stdout",
     "output_type": "stream",
     "text": [
      "\n",
      "Enter index to pop an element:-3\n",
      "Popped item: (1, 3, 4)\n",
      "\n",
      "List after pop operation: ['xyz', 3.3, 'jhb', (4+7j), {1: 'one', 2: 'two'}]\n"
     ]
    }
   ],
   "source": [
    "pop(lst)"
   ]
  },
  {
   "cell_type": "code",
   "execution_count": 8,
   "id": "ccee9232",
   "metadata": {
    "scrolled": true
   },
   "outputs": [
    {
     "name": "stdout",
     "output_type": "stream",
     "text": [
      "\n",
      "Enter index to pop an element:1\n",
      "Popped item: 3.3\n",
      "\n",
      "List after pop operation: ['xyz', 'jhb', (4+7j), {1: 'one', 2: 'two'}]\n"
     ]
    }
   ],
   "source": [
    "pop(lst)"
   ]
  },
  {
   "cell_type": "code",
   "execution_count": 9,
   "id": "85d83a67",
   "metadata": {
    "scrolled": true
   },
   "outputs": [
    {
     "name": "stdout",
     "output_type": "stream",
     "text": [
      "\n",
      "List after extend operation: ['xyz', 'jhb', (4+7j), {1: 'one', 2: 'two'}, 'k1', 'k2']\n"
     ]
    }
   ],
   "source": [
    "extend(lst, {'k1':'v1', 'k2':'v2'})"
   ]
  },
  {
   "cell_type": "code",
   "execution_count": 10,
   "id": "140b3cc1",
   "metadata": {
    "scrolled": true
   },
   "outputs": [
    {
     "name": "stdout",
     "output_type": "stream",
     "text": [
      "\n",
      "List after extend operation: ['xyz', 'jhb', (4+7j), {1: 'one', 2: 'two'}, 'k1', 'k2', 'f', 'g', 'h']\n"
     ]
    }
   ],
   "source": [
    "extend(lst, 'fgh')"
   ]
  },
  {
   "cell_type": "code",
   "execution_count": 11,
   "id": "afa6a429",
   "metadata": {},
   "outputs": [
    {
     "name": "stdout",
     "output_type": "stream",
     "text": [
      "TypeError: Enter iterable objects only\n"
     ]
    }
   ],
   "source": [
    "extend(lst, 3)"
   ]
  },
  {
   "cell_type": "code",
   "execution_count": 12,
   "id": "c5f23b37",
   "metadata": {},
   "outputs": [
    {
     "name": "stdout",
     "output_type": "stream",
     "text": [
      "\n",
      "Enter index to pop an element:10\n"
     ]
    },
    {
     "data": {
      "text/plain": [
       "'IndexError: pop index out of range'"
      ]
     },
     "execution_count": 12,
     "metadata": {},
     "output_type": "execute_result"
    }
   ],
   "source": [
    "pop(lst)"
   ]
  },
  {
   "cell_type": "markdown",
   "id": "37acfa48",
   "metadata": {},
   "source": [
    "#### 4. Try to write a lambda function which can return a concatenation of all the string that we will pass"
   ]
  },
  {
   "cell_type": "code",
   "execution_count": 13,
   "id": "c2040866",
   "metadata": {},
   "outputs": [
    {
     "name": "stdout",
     "output_type": "stream",
     "text": [
      "This function returns concatenation of strings\n"
     ]
    }
   ],
   "source": [
    "\"\"\"Returns concatenation of strings\"\"\"\n",
    "\n",
    "from functools import reduce\n",
    "\n",
    "strings= ['This ','function ','returns ','concatenation ','of ', 'strings']\n",
    "print(reduce(lambda x, y: x + y, strings))\n"
   ]
  },
  {
   "cell_type": "markdown",
   "id": "9dd8dd4d",
   "metadata": {},
   "source": [
    "#### 5. Try to write a lambda function which can return list of square of all the data between 1-100 "
   ]
  },
  {
   "cell_type": "code",
   "execution_count": 14,
   "id": "9dc2d5d6",
   "metadata": {},
   "outputs": [
    {
     "data": {
      "text/plain": [
       "[1,\n",
       " 4,\n",
       " 9,\n",
       " 16,\n",
       " 25,\n",
       " 36,\n",
       " 49,\n",
       " 64,\n",
       " 81,\n",
       " 100,\n",
       " 121,\n",
       " 144,\n",
       " 169,\n",
       " 196,\n",
       " 225,\n",
       " 256,\n",
       " 289,\n",
       " 324,\n",
       " 361,\n",
       " 400,\n",
       " 441,\n",
       " 484,\n",
       " 529,\n",
       " 576,\n",
       " 625,\n",
       " 676,\n",
       " 729,\n",
       " 784,\n",
       " 841,\n",
       " 900,\n",
       " 961,\n",
       " 1024,\n",
       " 1089,\n",
       " 1156,\n",
       " 1225,\n",
       " 1296,\n",
       " 1369,\n",
       " 1444,\n",
       " 1521,\n",
       " 1600,\n",
       " 1681,\n",
       " 1764,\n",
       " 1849,\n",
       " 1936,\n",
       " 2025,\n",
       " 2116,\n",
       " 2209,\n",
       " 2304,\n",
       " 2401,\n",
       " 2500,\n",
       " 2601,\n",
       " 2704,\n",
       " 2809,\n",
       " 2916,\n",
       " 3025,\n",
       " 3136,\n",
       " 3249,\n",
       " 3364,\n",
       " 3481,\n",
       " 3600,\n",
       " 3721,\n",
       " 3844,\n",
       " 3969,\n",
       " 4096,\n",
       " 4225,\n",
       " 4356,\n",
       " 4489,\n",
       " 4624,\n",
       " 4761,\n",
       " 4900,\n",
       " 5041,\n",
       " 5184,\n",
       " 5329,\n",
       " 5476,\n",
       " 5625,\n",
       " 5776,\n",
       " 5929,\n",
       " 6084,\n",
       " 6241,\n",
       " 6400,\n",
       " 6561,\n",
       " 6724,\n",
       " 6889,\n",
       " 7056,\n",
       " 7225,\n",
       " 7396,\n",
       " 7569,\n",
       " 7744,\n",
       " 7921,\n",
       " 8100,\n",
       " 8281,\n",
       " 8464,\n",
       " 8649,\n",
       " 8836,\n",
       " 9025,\n",
       " 9216,\n",
       " 9409,\n",
       " 9604,\n",
       " 9801,\n",
       " 10000]"
      ]
     },
     "execution_count": 14,
     "metadata": {},
     "output_type": "execute_result"
    }
   ],
   "source": [
    "\"\"\"Returns a list of square of all the numbers between 1 to 100\"\"\"\n",
    "\n",
    "n= lambda :[x**2 for x in range(1,101)]  \n",
    "n()"
   ]
  },
  {
   "cell_type": "markdown",
   "id": "4ac8cea5",
   "metadata": {},
   "source": [
    "#### 6. Try to write a 10 Different different example of lambda function with a choice of your taks "
   ]
  },
  {
   "cell_type": "code",
   "execution_count": 15,
   "id": "cd558672",
   "metadata": {},
   "outputs": [
    {
     "name": "stdout",
     "output_type": "stream",
     "text": [
      "[(-5, -2), (1, 2), (-2, 5), (7, 3), (10, 4)]\n"
     ]
    }
   ],
   "source": [
    "#1\n",
    "\"\"\"Returns a list of sorted elements according to sum of each tuple\"\"\"\n",
    "\n",
    "iterable= [(1,2), (-2,5), (10,4), (7,3), (-5,-2)]\n",
    "sorted_tup= sorted(iterable, key= lambda x: x[0] + x[1])\n",
    "\n",
    "print(sorted_tup)"
   ]
  },
  {
   "cell_type": "code",
   "execution_count": 16,
   "id": "4a12e6a2",
   "metadata": {},
   "outputs": [
    {
     "name": "stdout",
     "output_type": "stream",
     "text": [
      "25ˆ2 = 625\n"
     ]
    }
   ],
   "source": [
    "#2\n",
    "\"\"\"Returns a square of a numbers. Mention a number inside num variable to get its square.\"\"\"\n",
    "num= 25\n",
    "sq= lambda x: x**2\n",
    "print(str(num)+'ˆ2 =',sq(num))"
   ]
  },
  {
   "cell_type": "code",
   "execution_count": 17,
   "id": "daa68cfc",
   "metadata": {},
   "outputs": [
    {
     "name": "stdout",
     "output_type": "stream",
     "text": [
      "[2, 4]\n"
     ]
    }
   ],
   "source": [
    "#3\n",
    "\"\"\"Returns a list of elements divisible by 2\"\"\"\n",
    "\n",
    "lst= [1, 2, 3, 4, 5]\n",
    "print(list(filter(lambda x: x%2 == 0, lst)))\n"
   ]
  },
  {
   "cell_type": "code",
   "execution_count": 18,
   "id": "699a9c2b",
   "metadata": {},
   "outputs": [
    {
     "name": "stdout",
     "output_type": "stream",
     "text": [
      "24\n"
     ]
    }
   ],
   "source": [
    "#4\n",
    "\"\"\"This function will repeatedly apply lambda fucntion to the elements of list i.e, reduce will perform \n",
    "   multiplication of each element one by one and return a single value i.e, final product\"\"\"\n",
    "\n",
    "from functools import reduce\n",
    "\n",
    "lst= [1, 2, 3, 4]\n",
    "lst_element_product= reduce(lambda x,y: x*y, lst)\n",
    "print(lst_element_product)"
   ]
  },
  {
   "cell_type": "code",
   "execution_count": 19,
   "id": "3a7d0a76",
   "metadata": {},
   "outputs": [
    {
     "name": "stdout",
     "output_type": "stream",
     "text": [
      "-35\n"
     ]
    }
   ],
   "source": [
    "#5\n",
    "\"\"\"Returns a maximum value\"\"\"\n",
    "\n",
    "max_= lambda x,y: x if x>y else y\n",
    "print(max_(-35,-78))"
   ]
  },
  {
   "cell_type": "code",
   "execution_count": 20,
   "id": "8999922b",
   "metadata": {},
   "outputs": [
    {
     "name": "stdout",
     "output_type": "stream",
     "text": [
      "Table of 50 :\n",
      "  50 x 1 = 50\n",
      "  50 x 2 = 100\n",
      "  50 x 3 = 150\n",
      "  50 x 4 = 200\n",
      "  50 x 5 = 250\n",
      "  50 x 6 = 300\n",
      "  50 x 7 = 350\n",
      "  50 x 8 = 400\n",
      "  50 x 9 = 450\n",
      "  50 x 10 = 500\n"
     ]
    }
   ],
   "source": [
    "#6\n",
    "\"\"\"Returns a table of a particular number, mention any number inside a num variable to print its table\"\"\"\n",
    "\n",
    "num= 50\n",
    "print('Table of', num, ':')\n",
    "lst = [lambda i= j: i * num for j in range(1, 11)]\n",
    "\n",
    "k= 1\n",
    "while k <= 10:\n",
    "    for f in lst:\n",
    "        print(' ', num, 'x', k, '=', f())\n",
    "        k += 1"
   ]
  },
  {
   "cell_type": "code",
   "execution_count": 21,
   "id": "8ea8a281",
   "metadata": {},
   "outputs": [
    {
     "data": {
      "text/plain": [
       "7"
      ]
     },
     "execution_count": 21,
     "metadata": {},
     "output_type": "execute_result"
    }
   ],
   "source": [
    "#7\n",
    "\"\"\"Returns tens digit\"\"\"\n",
    "\n",
    "tens_digit= lambda n: int(n/10) % 10\n",
    "tens_digit(4673.78)"
   ]
  },
  {
   "cell_type": "code",
   "execution_count": 22,
   "id": "5756b5c5",
   "metadata": {},
   "outputs": [
    {
     "name": "stdout",
     "output_type": "stream",
     "text": [
      "['fifa', 'frog', 'french']\n"
     ]
    }
   ],
   "source": [
    "#8\n",
    "\"\"\"Returns list of words from a list, starting with a particular letter mentiond in letter variable\"\"\"\n",
    "\n",
    "lst= ['fifa', 'notebook', 'frog', 'couch', 'supernatural', 'french']\n",
    "letter= 'f'\n",
    "\n",
    "starts_with= list(filter(lambda x: True if x.startswith(letter) else False , lst))\n",
    "print(starts_with)"
   ]
  },
  {
   "cell_type": "code",
   "execution_count": 23,
   "id": "7fe16e12",
   "metadata": {},
   "outputs": [
    {
     "name": "stdout",
     "output_type": "stream",
     "text": [
      "Current year: 2022\n"
     ]
    }
   ],
   "source": [
    "#9\n",
    "\"\"\"Function returns present year\"\"\"\n",
    "import datetime\n",
    "\n",
    "present= datetime.datetime.now()\n",
    "year= lambda x: x.year\n",
    "\n",
    "print('Current year:',year(present))"
   ]
  },
  {
   "cell_type": "code",
   "execution_count": 24,
   "id": "45b116c8",
   "metadata": {},
   "outputs": [
    {
     "data": {
      "text/plain": [
       "['Mr bean', 'Wow', 'Ocean']"
      ]
     },
     "execution_count": 24,
     "metadata": {},
     "output_type": "execute_result"
    }
   ],
   "source": [
    "#10\n",
    "\"\"\"Return list of strings in capitalized format\"\"\"\n",
    "lst= ['mr bean', 'wow', 'ocean']\n",
    "\n",
    "list(map(lambda x: x.capitalize(), lst))\n"
   ]
  },
  {
   "cell_type": "markdown",
   "id": "dc29dabb",
   "metadata": {},
   "source": [
    "#### 7. Try to write a funtion which can perform a read operation from .txt file"
   ]
  },
  {
   "cell_type": "code",
   "execution_count": 25,
   "id": "1ca8630c",
   "metadata": {},
   "outputs": [
    {
     "name": "stdout",
     "output_type": "stream",
     "text": [
      "“He didn’t ask for mistake-free games. He didn’t demand that his players never lose. He asked for full preparation and full effort from them. “Did I win? Did I lose? Those are the wrong questions. The correct question is: Did I make my best effort?” If so, he says, “You may be outscored but you will never lose.”\n",
      "“Becoming is better than being” \n",
      "“We like to think of our champions and idols as superheroes who were born different from us. We don’t like to think of them as relatively ordinary people who made themselves extraordinary.” \n",
      "“Picture your brain forming new connections as you meet the challenge and learn. Keep on going.” \n",
      "“True self-confidence is “the courage to be open—to welcome change and new ideas regardless of their source.” Real self-confidence is not reflected in a title, an expensive suit, a fancy car, or a series of acquisitions. It is reflected in your mindset: your readiness to grow.” \n",
      "“John Wooden, the legendary basketball coach, says you aren’t a failure until you start to blame. What he means is that you can still be in the process of learning from your mistakes until you deny them.” \n",
      "“If you don’t give anything, don’t expect anything. Success is not coming to you, you must come to it.”\n",
      "“If you had to choose, which would it be? Loads of success and validation or lots of challenge?” \n"
     ]
    }
   ],
   "source": [
    "def read_from_file():\n",
    "    \"\"\"This function opens a mentioned file in reading mode. And prints the data that the particular file holds.\"\"\"\n",
    "    f= open('Mindset.txt','r')\n",
    "    print(f.read())\n",
    "\n",
    "read_from_file()"
   ]
  },
  {
   "cell_type": "code",
   "execution_count": null,
   "id": "f8c15e31",
   "metadata": {},
   "outputs": [],
   "source": []
  }
 ],
 "metadata": {
  "kernelspec": {
   "display_name": "Python 3",
   "language": "python",
   "name": "python3"
  },
  "language_info": {
   "codemirror_mode": {
    "name": "ipython",
    "version": 3
   },
   "file_extension": ".py",
   "mimetype": "text/x-python",
   "name": "python",
   "nbconvert_exporter": "python",
   "pygments_lexer": "ipython3",
   "version": "3.8.8"
  }
 },
 "nbformat": 4,
 "nbformat_minor": 5
}
