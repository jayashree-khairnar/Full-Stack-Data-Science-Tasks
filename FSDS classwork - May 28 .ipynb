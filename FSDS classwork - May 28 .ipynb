{
 "cells": [
  {
   "cell_type": "markdown",
   "id": "7ba3a8e0",
   "metadata": {},
   "source": [
    "#### 1. Print a pattern"
   ]
  },
  {
   "cell_type": "code",
   "execution_count": 1,
   "id": "36bd56d5",
   "metadata": {},
   "outputs": [
    {
     "name": "stdout",
     "output_type": "stream",
     "text": [
      "ineuron  \n",
      "ineuron  ineuron  \n",
      "ineuron  ineuron  ineuron  \n",
      "ineuron  ineuron  ineuron  ineuron  \n"
     ]
    }
   ],
   "source": [
    "num=4\n",
    "\n",
    "for i in range(num):     \n",
    "    for j in range(i+1): \n",
    "        print('ineuron ', end=' ')\n",
    "    print('')"
   ]
  },
  {
   "cell_type": "markdown",
   "id": "dadbbb1e",
   "metadata": {},
   "source": [
    "#### 2. Print a pattern"
   ]
  },
  {
   "cell_type": "code",
   "execution_count": 7,
   "id": "d2fef243",
   "metadata": {},
   "outputs": [
    {
     "name": "stdout",
     "output_type": "stream",
     "text": [
      "                                             \n",
      "                   ineuron                   \n",
      "               ineuron ineuron               \n",
      "           ineuron ineuron ineuron           \n",
      "               ineuron ineuron               \n",
      "                   ineuron                   \n"
     ]
    }
   ],
   "source": [
    "for i in range(6):\n",
    "    if i <= 3:\n",
    "        n= i\n",
    "    else:\n",
    "        n= 6-i\n",
    "    print((\"ineuron \"*n).center(45,' '))\n",
    "            "
   ]
  },
  {
   "cell_type": "code",
   "execution_count": 2,
   "id": "5b1d4e19",
   "metadata": {},
   "outputs": [
    {
     "name": "stdout",
     "output_type": "stream",
     "text": [
      "       ineuron \n",
      "    ineuron ineuron \n",
      " ineuron ineuron ineuron \n",
      "    ineuron ineuron \n",
      "       ineuron \n"
     ]
    }
   ],
   "source": [
    "num= 3\n",
    "\n",
    "for i in range(1, num+1): \n",
    "    print((num-i)*\"   \", i*\"ineuron \")\n",
    "    \n",
    "for j in range(num-1, 0, -1): \n",
    "    print((num-j)*\"   \", j*\"ineuron \")"
   ]
  },
  {
   "cell_type": "code",
   "execution_count": 2,
   "id": "c4e1cb37",
   "metadata": {},
   "outputs": [],
   "source": [
    "l= [[1,2,3,4], (2,3,4,5,6), (3,4,5,6,7), set([23,4,5,45,4,4,5,45,45,4,5]), {'k1':'sudh', 'k2':'ineuron', 'k3':'kumar', 3:6, 7:8}, ['ineuron','data science']]"
   ]
  },
  {
   "cell_type": "markdown",
   "id": "60b21819",
   "metadata": {},
   "source": [
    "#### 3. Try to extract all the list entities"
   ]
  },
  {
   "cell_type": "code",
   "execution_count": 4,
   "id": "e8341e4d",
   "metadata": {},
   "outputs": [
    {
     "name": "stdout",
     "output_type": "stream",
     "text": [
      "[1, 2, 3, 4]\n",
      "['ineuron', 'data science']\n"
     ]
    }
   ],
   "source": [
    "for i in l:\n",
    "    if type(i)==list:\n",
    "        print(i)"
   ]
  },
  {
   "cell_type": "markdown",
   "id": "742416b3",
   "metadata": {},
   "source": [
    "#### 4. Try to extract all the dict entities"
   ]
  },
  {
   "cell_type": "code",
   "execution_count": 5,
   "id": "29bc29e0",
   "metadata": {},
   "outputs": [
    {
     "name": "stdout",
     "output_type": "stream",
     "text": [
      "{'k1': 'sudh', 'k2': 'ineuron', 'k3': 'kumar', 3: 6, 7: 8}\n"
     ]
    }
   ],
   "source": [
    "for i in l:\n",
    "    if type(i) == dict:\n",
    "        print(i)"
   ]
  },
  {
   "cell_type": "markdown",
   "id": "750ab3bd",
   "metadata": {},
   "source": [
    "#### 5. Try to extract all the tuple entities"
   ]
  },
  {
   "cell_type": "code",
   "execution_count": 6,
   "id": "754735e7",
   "metadata": {},
   "outputs": [
    {
     "name": "stdout",
     "output_type": "stream",
     "text": [
      "(2, 3, 4, 5, 6)\n",
      "(3, 4, 5, 6, 7)\n"
     ]
    }
   ],
   "source": [
    "for i in l:\n",
    "    if type(i)==tuple:\n",
    "        print(i)"
   ]
  },
  {
   "cell_type": "markdown",
   "id": "a5d68874",
   "metadata": {},
   "source": [
    "#### 6. Try to extract all the numerical data it may be a part of dict key & values"
   ]
  },
  {
   "cell_type": "code",
   "execution_count": 4,
   "id": "190c5d89",
   "metadata": {},
   "outputs": [
    {
     "name": "stdout",
     "output_type": "stream",
     "text": [
      "{1, 2, 3, 4, 5, 6, 7, 8, 45, 23}\n"
     ]
    }
   ],
   "source": [
    "s= set()\n",
    "\n",
    "for i in l:\n",
    "    if type(i)==list or type(i)==tuple or type(i)==set:\n",
    "        for j in i:\n",
    "            if type(j)==int:\n",
    "                s.add(j)\n",
    "            \n",
    "    if type(i)==dict:\n",
    "        for p,q in i.items():\n",
    "            if type(p)==int:\n",
    "                s.add(p)\n",
    "            \n",
    "            if type(q)==int: \n",
    "                s.add(q)\n",
    "\n",
    "print(s)        "
   ]
  },
  {
   "cell_type": "markdown",
   "id": "4aa2fbf7",
   "metadata": {},
   "source": [
    "#### 7. Try to give summation of all the numeric data"
   ]
  },
  {
   "cell_type": "code",
   "execution_count": 8,
   "id": "d993096e",
   "metadata": {},
   "outputs": [
    {
     "name": "stdout",
     "output_type": "stream",
     "text": [
      "Summation:  156\n"
     ]
    }
   ],
   "source": [
    "summation= 0\n",
    "for i in l:\n",
    "    if type(i)==list or type(i)==tuple or type(i)==set: \n",
    "        for j in i:\n",
    "            if type(j)==int:\n",
    "                summation += j\n",
    "                \n",
    "    if type(i)==dict:\n",
    "        for p,q in i.items():\n",
    "            if type(p)==int:\n",
    "                summation += p\n",
    "            \n",
    "            if type(q)==int:\n",
    "                summation += q\n",
    "                \n",
    "print(\"Summation: \",summation)"
   ]
  },
  {
   "cell_type": "markdown",
   "id": "9ff624e3",
   "metadata": {},
   "source": [
    "#### 8. Try to filter out all the odd values out of all numeric data which is a part of list"
   ]
  },
  {
   "cell_type": "code",
   "execution_count": 9,
   "id": "6be5826f",
   "metadata": {},
   "outputs": [
    {
     "name": "stdout",
     "output_type": "stream",
     "text": [
      "1\n",
      "3\n"
     ]
    }
   ],
   "source": [
    "for i in l:\n",
    "    if type(i)==list:\n",
    "        for j in i:\n",
    "            if type(j)==int and j%2!=0:\n",
    "                print(j)"
   ]
  },
  {
   "cell_type": "markdown",
   "id": "f2a736d6",
   "metadata": {},
   "source": [
    "#### 9. Try to extract 'ineuron' out of this data"
   ]
  },
  {
   "cell_type": "code",
   "execution_count": 10,
   "id": "0f99fb0d",
   "metadata": {},
   "outputs": [
    {
     "name": "stdout",
     "output_type": "stream",
     "text": [
      "In <class 'dict'> : ineuron\n",
      "In <class 'list'> : ineuron\n"
     ]
    }
   ],
   "source": [
    "for i in l:\n",
    "    if type(i)==list or type(i)==tuple or type(i)==set:\n",
    "        for j in i:\n",
    "            if type(j)==str and j=='ineuron':\n",
    "                print('In', type(i), ':', j)\n",
    "    \n",
    "    if type(i)==dict:\n",
    "        for p,q in i.items():\n",
    "            if type(p)==str and p=='ineuron':\n",
    "                print('In', type(i), ':', p)\n",
    "            \n",
    "            if type(q)==str and q=='ineuron':\n",
    "                print('In', type(i), ':', q)"
   ]
  },
  {
   "cell_type": "markdown",
   "id": "cfcc09ea",
   "metadata": {},
   "source": [
    "#### 10. Try to find out a number of occurrences of all the data"
   ]
  },
  {
   "cell_type": "code",
   "execution_count": 11,
   "id": "4481c3b2",
   "metadata": {},
   "outputs": [
    {
     "name": "stdout",
     "output_type": "stream",
     "text": [
      "k2 : 1\n",
      "1 : 1\n",
      "2 : 2\n",
      "3 : 4\n",
      "4 : 4\n",
      "5 : 3\n",
      "6 : 3\n",
      "7 : 2\n",
      "k3 : 1\n",
      "8 : 1\n",
      "data science : 1\n",
      "45 : 1\n",
      "k1 : 1\n",
      "23 : 1\n",
      "kumar : 1\n",
      "ineuron : 2\n",
      "sudh : 1\n"
     ]
    }
   ],
   "source": [
    "l1=[]\n",
    "\n",
    "for i in l:\n",
    "    if type(i)==list or type(i)==tuple or type(i)==set:\n",
    "        for j in i:\n",
    "            l1.append(j)\n",
    "    \n",
    "    if type(i)==dict:\n",
    "        for p,q in i.items():\n",
    "            l1.append(p)\n",
    "            l1.append(q)\n",
    "            \n",
    "s= set(l1)\n",
    "\n",
    "for i in s:\n",
    "    print(i, \":\", l1.count(i))"
   ]
  },
  {
   "cell_type": "markdown",
   "id": "a36887da",
   "metadata": {},
   "source": [
    "#### 11. Try to find out number of keys in dict element"
   ]
  },
  {
   "cell_type": "code",
   "execution_count": 12,
   "id": "56ff00f0",
   "metadata": {},
   "outputs": [
    {
     "name": "stdout",
     "output_type": "stream",
     "text": [
      "Key in dict:  k1\n",
      "Key in dict:  k2\n",
      "Key in dict:  k3\n",
      "Key in dict:  3\n",
      "Key in dict:  7\n",
      "\n",
      "Number of keys in a dictionary:  5\n"
     ]
    }
   ],
   "source": [
    "cnt= 0\n",
    "for i in l:\n",
    "    if type(i)==dict:\n",
    "        for j in i:\n",
    "            print(\"Key in dict: \",j)\n",
    "            cnt += 1\n",
    "    \n",
    "print(\"\\nNumber of keys in a dictionary: \",cnt)"
   ]
  },
  {
   "cell_type": "markdown",
   "id": "70fde5df",
   "metadata": {},
   "source": [
    "#### 12. Try to filter out all the string data"
   ]
  },
  {
   "cell_type": "code",
   "execution_count": 13,
   "id": "4f78cd0f",
   "metadata": {},
   "outputs": [
    {
     "name": "stdout",
     "output_type": "stream",
     "text": [
      "k1\n",
      "sudh\n",
      "k2\n",
      "ineuron\n",
      "k3\n",
      "kumar\n",
      "ineuron\n",
      "data science\n"
     ]
    }
   ],
   "source": [
    "for i in l:\n",
    "    if type(i)==list or type(i)==tuple or type(i)==set:\n",
    "        for j in i:\n",
    "            if type(j)==str:\n",
    "                print(j)\n",
    "                \n",
    "    if type(i)==dict:\n",
    "        for p,q in i.items():\n",
    "            if type(p)==str:\n",
    "                print(p)\n",
    "            \n",
    "            if type(q)==str:\n",
    "                print(q)"
   ]
  },
  {
   "cell_type": "markdown",
   "id": "3683fba0",
   "metadata": {},
   "source": [
    "#### 13. Try to find out alphanum in data"
   ]
  },
  {
   "cell_type": "code",
   "execution_count": 5,
   "id": "747612aa",
   "metadata": {},
   "outputs": [
    {
     "name": "stdout",
     "output_type": "stream",
     "text": [
      "['k1', 'sudh', 'k2', 'ineuron', 'k3', 'kumar', 'ineuron', 'data science']\n",
      "k1\n",
      "k2\n",
      "k3\n"
     ]
    }
   ],
   "source": [
    "l1= []\n",
    "\n",
    "for i in l:\n",
    "    if type(i)==list or type(i)==tuple or type(i)==set:\n",
    "        for j in i:\n",
    "            if type(j)==str:\n",
    "                l1.append(j)\n",
    "                \n",
    "    if type(i)==dict:\n",
    "        for p,q in i.items():\n",
    "            if type(p)==str:\n",
    "                l1.append(p)\n",
    "            \n",
    "            if type(q)==str:\n",
    "                l1.append(q)\n",
    "print(l1)\n",
    "for i in l1:\n",
    "    for j in range(len(i)):\n",
    "        if i[j] in '0123456789':\n",
    "            print(i)\n"
   ]
  },
  {
   "cell_type": "markdown",
   "id": "297ce774",
   "metadata": {},
   "source": [
    "#### 14. Try to find out multiplication of all numeric value in the individual collection inside dataset"
   ]
  },
  {
   "cell_type": "code",
   "execution_count": 11,
   "id": "5c2c3c21",
   "metadata": {},
   "outputs": [
    {
     "name": "stdout",
     "output_type": "stream",
     "text": [
      "Multiplicaton of <class 'list'> elements:  24\n",
      "Multiplicaton of <class 'tuple'> elements:  720\n",
      "Multiplicaton of <class 'tuple'> elements:  2520\n",
      "Multiplicaton of <class 'set'> elements:  20700\n",
      "Multiplicaton of <class 'dict'> elements:  1008\n",
      "Multiplicaton of <class 'list'> elements:  1\n"
     ]
    }
   ],
   "source": [
    "mul=1\n",
    "\n",
    "for i in l:\n",
    "    if type(i)==dict:\n",
    "        for p,q in i.items():\n",
    "            if type(p)==int or type(q)==int:\n",
    "                mul *= p \n",
    "                mul *= q\n",
    "                \n",
    "        print(\"Multiplicaton of\", type(i), \"elements: \",mul)\n",
    "\n",
    "        \n",
    "    if type(i)==list or type(i)==tuple or type(i)==set:\n",
    "        for j in i:\n",
    "            if type(j)==int:\n",
    "                mul *= j \n",
    "            \n",
    "        print(\"Multiplicaton of\", type(i), \"elements: \",mul)\n",
    "    mul=1\n",
    "    "
   ]
  },
  {
   "cell_type": "markdown",
   "id": "ffdbcca3",
   "metadata": {},
   "source": [
    "#### 15. Try to unwrap all the collection inside collection & create a flat list"
   ]
  },
  {
   "cell_type": "code",
   "execution_count": 16,
   "id": "78dd6dcc",
   "metadata": {},
   "outputs": [
    {
     "data": {
      "text/plain": [
       "[1,\n",
       " 2,\n",
       " 3,\n",
       " 4,\n",
       " 2,\n",
       " 3,\n",
       " 4,\n",
       " 5,\n",
       " 6,\n",
       " 3,\n",
       " 4,\n",
       " 5,\n",
       " 6,\n",
       " 7,\n",
       " 45,\n",
       " 4,\n",
       " 5,\n",
       " 23,\n",
       " 'k1',\n",
       " 'k2',\n",
       " 'k3',\n",
       " 3,\n",
       " 7,\n",
       " 'ineuron',\n",
       " 'data science']"
      ]
     },
     "execution_count": 16,
     "metadata": {},
     "output_type": "execute_result"
    }
   ],
   "source": [
    "[j for i in l for j in i]"
   ]
  }
 ],
 "metadata": {
  "kernelspec": {
   "display_name": "Python 3",
   "language": "python",
   "name": "python3"
  },
  "language_info": {
   "codemirror_mode": {
    "name": "ipython",
    "version": 3
   },
   "file_extension": ".py",
   "mimetype": "text/x-python",
   "name": "python",
   "nbconvert_exporter": "python",
   "pygments_lexer": "ipython3",
   "version": "3.8.8"
  }
 },
 "nbformat": 4,
 "nbformat_minor": 5
}
